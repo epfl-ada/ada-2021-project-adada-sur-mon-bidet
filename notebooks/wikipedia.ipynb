{
 "cells": [
  {
   "cell_type": "markdown",
   "metadata": {},
   "source": [
    "# Wikipedia feature engineering\n",
    "The goal of this notebook is to experiment with some new features extracted from Wikipedia."
   ]
  },
  {
   "cell_type": "code",
   "execution_count": null,
   "metadata": {},
   "outputs": [
    {
     "name": "stderr",
     "output_type": "stream",
     "text": [
      "[nltk_data] Downloading package stopwords to\n",
      "[nltk_data]     /home/lucastrg/nltk_data...\n",
      "[nltk_data]   Package stopwords is already up-to-date!\n",
      "[nltk_data] Downloading package stopwords to\n",
      "[nltk_data]     /home/lucastrg/nltk_data...\n",
      "[nltk_data]   Package stopwords is already up-to-date!\n"
     ]
    },
    {
     "data": {
      "text/plain": [
       "<module 'helpers' from '/home/lucastrg/FLEP/MA1/ADA/ada-2021-project-adada-sur-mon-bidet/./helpers/helpers.py'>"
      ]
     },
     "execution_count": 1,
     "metadata": {},
     "output_type": "execute_result"
    }
   ],
   "source": [
    "import pandas as pd\n",
    "import numpy as np\n",
    "import seaborn as sns\n",
    "from importlib import reload\n",
    "import matplotlib.pyplot as plt\n",
    "import urllib.request\n",
    "import json\n",
    "import sys\n",
    "import re\n",
    "sys.path.append('./helpers/')\n",
    "sys.path.append('./feature_engineering/')\n",
    "import names\n",
    "import helpers\n",
    "\n",
    "reload(helpers)"
   ]
  },
  {
   "cell_type": "markdown",
   "metadata": {},
   "source": [
    "## Pre-Processing\n",
    "We will remove all the quotes without a speaker, and we will extract the set of all the speakers and QIDs of the sampled rows.\n",
    "We then fetch a json of each speaker's whole page as well as all its PIDs and RIDs (these 2 IDs are not yet in use)"
   ]
  },
  {
   "cell_type": "code",
   "execution_count": null,
   "metadata": {},
   "outputs": [],
   "source": [
    "df = helpers.get_samples(num_samples=10000, random=True)"
   ]
  },
  {
   "cell_type": "code",
   "execution_count": null,
   "metadata": {},
   "outputs": [],
   "source": [
    "df=df[df[\"speaker\"]!=\"None\"]"
   ]
  },
  {
   "cell_type": "code",
   "execution_count": 4,
   "metadata": {},
   "outputs": [
    {
     "data": {
      "text/plain": [
       "5978"
      ]
     },
     "execution_count": 4,
     "metadata": {},
     "output_type": "execute_result"
    }
   ],
   "source": [
    "len(df)"
   ]
  },
  {
   "cell_type": "markdown",
   "metadata": {},
   "source": [
    "Not so bad ! About 60% of the rows are kept."
   ]
  },
  {
   "cell_type": "code",
   "execution_count": 5,
   "metadata": {},
   "outputs": [
    {
     "data": {
      "text/html": [
       "<div>\n",
       "<style scoped>\n",
       "    .dataframe tbody tr th:only-of-type {\n",
       "        vertical-align: middle;\n",
       "    }\n",
       "\n",
       "    .dataframe tbody tr th {\n",
       "        vertical-align: top;\n",
       "    }\n",
       "\n",
       "    .dataframe thead th {\n",
       "        text-align: right;\n",
       "    }\n",
       "</style>\n",
       "<table border=\"1\" class=\"dataframe\">\n",
       "  <thead>\n",
       "    <tr style=\"text-align: right;\">\n",
       "      <th></th>\n",
       "      <th>quoteID</th>\n",
       "      <th>quotation</th>\n",
       "      <th>speaker</th>\n",
       "      <th>qids</th>\n",
       "      <th>date</th>\n",
       "      <th>numOccurrences</th>\n",
       "      <th>probas</th>\n",
       "      <th>urls</th>\n",
       "      <th>phase</th>\n",
       "    </tr>\n",
       "  </thead>\n",
       "  <tbody>\n",
       "    <tr>\n",
       "      <th>7</th>\n",
       "      <td>2020-01-17-000357</td>\n",
       "      <td>[ The delay ] will have an impact [ on Slough ...</td>\n",
       "      <td>Dexter Smith</td>\n",
       "      <td>[Q5268447]</td>\n",
       "      <td>2020-01-17 13:03:00</td>\n",
       "      <td>1</td>\n",
       "      <td>[[Dexter Smith, 0.924], [None, 0.076]]</td>\n",
       "      <td>[http://www.sloughexpress.co.uk/gallery/slough...</td>\n",
       "      <td>E</td>\n",
       "    </tr>\n",
       "    <tr>\n",
       "      <th>16</th>\n",
       "      <td>2020-01-08-000594</td>\n",
       "      <td>11 straight weeks of pre-season,</td>\n",
       "      <td>Aphelele Fassi</td>\n",
       "      <td>[Q56255401]</td>\n",
       "      <td>2020-01-08 10:22:11</td>\n",
       "      <td>1</td>\n",
       "      <td>[[Aphelele Fassi, 0.9033], [None, 0.0967]]</td>\n",
       "      <td>[https://www.sport24.co.za/Rugby/SuperRugby/sh...</td>\n",
       "      <td>E</td>\n",
       "    </tr>\n",
       "    <tr>\n",
       "      <th>33</th>\n",
       "      <td>2020-01-20-000982</td>\n",
       "      <td>a host of other protections</td>\n",
       "      <td>Debbie Lesko</td>\n",
       "      <td>[Q16731415]</td>\n",
       "      <td>2020-01-20 15:32:48</td>\n",
       "      <td>1</td>\n",
       "      <td>[[Debbie Lesko, 0.4784], [None, 0.4105], [Ed M...</td>\n",
       "      <td>[https://www.cleveland.com/open/2020/01/the-eq...</td>\n",
       "      <td>E</td>\n",
       "    </tr>\n",
       "    <tr>\n",
       "      <th>34</th>\n",
       "      <td>2020-02-29-000491</td>\n",
       "      <td>a lack of resources and government funding</td>\n",
       "      <td>Paul Harvey</td>\n",
       "      <td>[Q16195572, Q16204369, Q39074951, Q47350253, Q...</td>\n",
       "      <td>2020-02-29 00:13:45</td>\n",
       "      <td>1</td>\n",
       "      <td>[[Paul Harvey, 0.9212], [None, 0.0788]]</td>\n",
       "      <td>[http://basingstokegazette.co.uk/news/18270936...</td>\n",
       "      <td>E</td>\n",
       "    </tr>\n",
       "    <tr>\n",
       "      <th>37</th>\n",
       "      <td>2020-01-03-001237</td>\n",
       "      <td>A lot of Americans [ were ] upset that this wa...</td>\n",
       "      <td>Julián Castro</td>\n",
       "      <td>[Q970720]</td>\n",
       "      <td>2020-01-03 00:00:00</td>\n",
       "      <td>1</td>\n",
       "      <td>[[Julián Castro, 0.4781], [None, 0.4384], [Dav...</td>\n",
       "      <td>[http://keranews.org/post/juli-n-castro-ends-2...</td>\n",
       "      <td>E</td>\n",
       "    </tr>\n",
       "  </tbody>\n",
       "</table>\n",
       "</div>"
      ],
      "text/plain": [
       "              quoteID                                          quotation  \\\n",
       "7   2020-01-17-000357  [ The delay ] will have an impact [ on Slough ...   \n",
       "16  2020-01-08-000594                   11 straight weeks of pre-season,   \n",
       "33  2020-01-20-000982                        a host of other protections   \n",
       "34  2020-02-29-000491         a lack of resources and government funding   \n",
       "37  2020-01-03-001237  A lot of Americans [ were ] upset that this wa...   \n",
       "\n",
       "           speaker                                               qids  \\\n",
       "7     Dexter Smith                                         [Q5268447]   \n",
       "16  Aphelele Fassi                                        [Q56255401]   \n",
       "33    Debbie Lesko                                        [Q16731415]   \n",
       "34     Paul Harvey  [Q16195572, Q16204369, Q39074951, Q47350253, Q...   \n",
       "37   Julián Castro                                          [Q970720]   \n",
       "\n",
       "                   date  numOccurrences  \\\n",
       "7   2020-01-17 13:03:00               1   \n",
       "16  2020-01-08 10:22:11               1   \n",
       "33  2020-01-20 15:32:48               1   \n",
       "34  2020-02-29 00:13:45               1   \n",
       "37  2020-01-03 00:00:00               1   \n",
       "\n",
       "                                               probas  \\\n",
       "7              [[Dexter Smith, 0.924], [None, 0.076]]   \n",
       "16         [[Aphelele Fassi, 0.9033], [None, 0.0967]]   \n",
       "33  [[Debbie Lesko, 0.4784], [None, 0.4105], [Ed M...   \n",
       "34            [[Paul Harvey, 0.9212], [None, 0.0788]]   \n",
       "37  [[Julián Castro, 0.4781], [None, 0.4384], [Dav...   \n",
       "\n",
       "                                                 urls phase  \n",
       "7   [http://www.sloughexpress.co.uk/gallery/slough...     E  \n",
       "16  [https://www.sport24.co.za/Rugby/SuperRugby/sh...     E  \n",
       "33  [https://www.cleveland.com/open/2020/01/the-eq...     E  \n",
       "34  [http://basingstokegazette.co.uk/news/18270936...     E  \n",
       "37  [http://keranews.org/post/juli-n-castro-ends-2...     E  "
      ]
     },
     "execution_count": 5,
     "metadata": {},
     "output_type": "execute_result"
    }
   ],
   "source": [
    "df.head()"
   ]
  },
  {
   "cell_type": "code",
   "execution_count": 6,
   "metadata": {},
   "outputs": [],
   "source": [
    "qids=list(set(df[\"qids\"].to_numpy().sum()))\n",
    "speakers=list(set(df[\"speaker\"]))"
   ]
  },
  {
   "cell_type": "code",
   "execution_count": 7,
   "metadata": {},
   "outputs": [
    {
     "data": {
      "text/plain": [
       "4898"
      ]
     },
     "execution_count": 7,
     "metadata": {},
     "output_type": "execute_result"
    }
   ],
   "source": [
    "len(speakers)"
   ]
  },
  {
   "cell_type": "code",
   "execution_count": 8,
   "metadata": {},
   "outputs": [],
   "source": [
    "request_template= \"https://www.wikidata.org/wiki/Special:EntityData/{}.json\"\n",
    "request_template2=\"https://en.wikipedia.org/w/api.php?action=query&format=json&prop=revisions&titles={}&formatversion=2&rvprop=content&rvslots=*\"\n",
    "request_template3=\"https://en.wikipedia.org/w/api.php?action=query&format=json&prop=revisions&pageids={}&formatversion=2&rvprop=content&rvslots=*\"\n"
   ]
  },
  {
   "cell_type": "code",
   "execution_count": 9,
   "metadata": {},
   "outputs": [],
   "source": [
    "invalid_qids=[]\n",
    "for qid in qids[:10]:\n",
    "   try :\n",
    "      with urllib.request.urlopen(request_template.format(qid)) as response:\n",
    "         raw_data = response\n",
    "         data = json.load(raw_data)\n",
    "         data.keys()\n",
    "   except urllib.request.HTTPError :\n",
    "      invalid_qids.append(qid)\n",
    "\n",
    "\n",
    "      #print(json.dumps(data, indent=2, sort_keys=True))\n",
    "      "
   ]
  },
  {
   "cell_type": "markdown",
   "metadata": {},
   "source": [
    "Doesn't work atm, not really useful so might drop"
   ]
  },
  {
   "cell_type": "code",
   "execution_count": 12,
   "metadata": {},
   "outputs": [
    {
     "ename": "NameError",
     "evalue": "name 'qid_to_rid' is not defined",
     "output_type": "error",
     "traceback": [
      "\u001b[0;31m---------------------------------------------------------------------------\u001b[0m",
      "\u001b[0;31mNameError\u001b[0m                                 Traceback (most recent call last)",
      "\u001b[0;32m/tmp/ipykernel_7337/2263037819.py\u001b[0m in \u001b[0;36m<module>\u001b[0;34m\u001b[0m\n\u001b[1;32m      2\u001b[0m \u001b[0;32mfor\u001b[0m \u001b[0mqid\u001b[0m \u001b[0;32min\u001b[0m \u001b[0mqids\u001b[0m\u001b[0;34m[\u001b[0m\u001b[0;34m:\u001b[0m\u001b[0;36m10\u001b[0m\u001b[0;34m]\u001b[0m\u001b[0;34m:\u001b[0m\u001b[0;34m\u001b[0m\u001b[0;34m\u001b[0m\u001b[0m\n\u001b[1;32m      3\u001b[0m    \u001b[0;32mtry\u001b[0m \u001b[0;34m:\u001b[0m\u001b[0;34m\u001b[0m\u001b[0;34m\u001b[0m\u001b[0m\n\u001b[0;32m----> 4\u001b[0;31m       \u001b[0;32mwith\u001b[0m \u001b[0murllib\u001b[0m\u001b[0;34m.\u001b[0m\u001b[0mrequest\u001b[0m\u001b[0;34m.\u001b[0m\u001b[0murlopen\u001b[0m\u001b[0;34m(\u001b[0m\u001b[0mrequest_template3\u001b[0m\u001b[0;34m.\u001b[0m\u001b[0mformat\u001b[0m\u001b[0;34m(\u001b[0m\u001b[0mqid_to_rid\u001b[0m\u001b[0;34m[\u001b[0m\u001b[0mqid\u001b[0m\u001b[0;34m]\u001b[0m\u001b[0;34m)\u001b[0m\u001b[0;34m)\u001b[0m \u001b[0;32mas\u001b[0m \u001b[0mresponse\u001b[0m\u001b[0;34m:\u001b[0m\u001b[0;34m\u001b[0m\u001b[0;34m\u001b[0m\u001b[0m\n\u001b[0m\u001b[1;32m      5\u001b[0m          \u001b[0mraw_data\u001b[0m \u001b[0;34m=\u001b[0m \u001b[0mresponse\u001b[0m\u001b[0;34m\u001b[0m\u001b[0;34m\u001b[0m\u001b[0m\n\u001b[1;32m      6\u001b[0m          \u001b[0mdata\u001b[0m \u001b[0;34m=\u001b[0m \u001b[0mjson\u001b[0m\u001b[0;34m.\u001b[0m\u001b[0mload\u001b[0m\u001b[0;34m(\u001b[0m\u001b[0mraw_data\u001b[0m\u001b[0;34m)\u001b[0m\u001b[0;34m\u001b[0m\u001b[0;34m\u001b[0m\u001b[0m\n",
      "\u001b[0;31mNameError\u001b[0m: name 'qid_to_rid' is not defined"
     ]
    }
   ],
   "source": [
    "invalid_qids=[]\n",
    "for qid in qids[:10]:\n",
    "   try :\n",
    "      with urllib.request.urlopen(request_template3.format(qid_to_rid[qid])) as response:\n",
    "         raw_data = response\n",
    "         data = json.load(raw_data)\n",
    "         data.keys()\n",
    "   except urllib.request.HTTPError :\n",
    "      invalid_qids.append(qid)\n",
    "\n",
    "\n",
    "      #print(json.dumps(data, indent=2, sort_keys=True))\n",
    "      "
   ]
  },
  {
   "cell_type": "code",
   "execution_count": null,
   "metadata": {},
   "outputs": [
    {
     "data": {
      "text/plain": [
       "{'batchcomplete': True,\n",
       " 'query': {'pages': [{'pageid': 1426072190, 'missing': True}]}}"
      ]
     },
     "execution_count": 225,
     "metadata": {},
     "output_type": "execute_result"
    }
   ],
   "source": [
    "data"
   ]
  },
  {
   "cell_type": "markdown",
   "metadata": {},
   "source": [
    "#Wikipedia data fetching\n",
    "Fetches all we need to know about a speaker (using their name). Handles one redirection if needed "
   ]
  },
  {
   "cell_type": "code",
   "execution_count": 13,
   "metadata": {},
   "outputs": [
    {
     "name": "stdout",
     "output_type": "stream",
     "text": [
      "Redirect  Clara Kramer -> Clara's War\n",
      "Redirect  Jeffrey Mims -> D. Jeffrey Mims\n",
      "Redirect  Cesar Diaz -> César Díaz\n",
      "Redirect  Matty Healy -> The \n",
      "Redirect  Stephane Dujarric -> Stéphane Dujarric\n",
      "Redirect  Darion Anderson -> Jake Anderson \n",
      "Redirect  Joe Giudice -> Teresa Giudice\n",
      "Redirect  Bob Miller -> Robert Miller\n",
      "Redirect  V Srinivasan -> V. Srinivasan\n",
      "Redirect  Mick Cronin -> Michael Cronin\n",
      "Redirect  Bill O'Brien -> William O'Brien \n",
      "Redirect  Bobby James -> Bob James\n",
      "Redirect  Kim Kardashian West -> Kim Kardashian\n",
      "Redirect  Bill Chapman -> William Chapman\n",
      "Redirect  Georgina Wood -> Georgina Theodora Wood\n",
      "Redirect  Kareena Kapoor Khan -> Kareena Kapoor\n",
      "Redirect  Mike White -> Michael White\n",
      "Redirect  Dave Roberts -> David Roberts\n",
      "Redirect  Sinead O'Connor -> Sinéad O'Connor\n",
      "Redirect  Mike Green -> Michael Green\n",
      "Redirect  Bill Hoffman -> William Hoffman\n",
      "Redirect  Tedros Adhanom Ghebreyesus -> Tedros Adhanom\n",
      "Redirect  Danny Garcia -> Daniel García\n",
      "Redirect  Stephen Townsend -> Stephen J. Townsend\n",
      "Redirect  Matt Lee -> Matthew Lee\n",
      "Redirect  Mike Dean -> Michael Dean\n",
      "Redirect  Jim Davis -> James Davis\n",
      "Redirect  Queen Elizabeth II -> Elizabeth II\n",
      "Redirect  Jurgen Klopp -> Jürgen Klopp\n",
      "Redirect  Ken Clarke -> Kenneth Clarke\n",
      "Redirect  C. Smith -> List of people with surname Smith\n",
      "Redirect  Barbora Strycova -> Barbora Strýcová\n",
      "Redirect  A.B. Quintanilla III -> A. B. Quintanilla\n",
      "Redirect  Mike Lee -> Michael Lee\n",
      "Redirect  Katinka Hosszu -> Katinka Hosszú\n",
      "Redirect  Stergomena Lawrence Tax -> Stergomena Tax\n",
      "Redirect  Dr Chidi -> Chidi Ngwaba\n",
      "Redirect  Lawrence S. Bacow -> Lawrence Bacow\n",
      "Redirect  Sean Wright -> The Contender Asia\n",
      "Redirect  Daniel Grossman -> Danny Grossman\n",
      "Redirect  Jack Cunningham -> Jack Cunningham\n",
      "Redirect  Patricia De Lille -> Patricia de Lille\n",
      "Redirect  Recep Tayyip Erdogan -> Recep Tayyip Erdo\n",
      "Redirect  Francois Legault -> François Legault\n",
      "Redirect  Josh Jones -> Joshua Jones\n",
      "Redirect  Bill Lee -> William Lee\n",
      "Redirect  Mike Smith -> Michael Smith\n",
      "Redirect  Xi Xiaoxing -> Xiaoxing Xi\n",
      "Redirect  Charles Lieber -> Charles M. Lieber\n",
      "Redirect  Binyamin Netanyahu -> Benjamin Netanyahu\n",
      "Redirect  Joel Simon -> Committee to Protect Journalists\n",
      "Redirect  Felix Rivera -> Anchorage\n",
      "Redirect  Chris Jones -> Christopher Jones\n",
      "Redirect  Dan Lewis -> Daniel Lewis\n",
      "Redirect  Vimal Kumar -> U. Vimal Kumar\n",
      "Redirect  Stephen Bennett -> Steve Bennett\n",
      "Redirect  Iron Lady -> Margaret Thatcher\n",
      "Redirect  Mike Johnson -> Michael Johnson\n",
      "Redirect  TJ Warren -> T. J. Warren\n",
      "Redirect  Ken Griffey -> Ken Griffey Jr.\n",
      "Redirect  dos Santos -> Santos \n",
      "Redirect  Robin Skinner -> Cavetown\n",
      "Redirect  Mike Scott -> Michael Scott\n",
      "Redirect  Daniel Hemmert -> Dan Hemmert\n",
      "Redirect  Joe White -> Joseph White\n",
      "Redirect  Paul Levy -> Paul Lévy\n",
      "Redirect  Adama Traore -> Adama Traoré\n",
      "Redirect  Rebii Simon -> Rebeka Simon\n",
      "Redirect  Martin Perez -> Martín Pérez\n",
      "Redirect  Sonia Lopez -> Sonia López\n",
      "Redirect  Van Buren -> Martin Van Buren\n",
      "Redirect  Bong Joon Ho -> Bong Joon-ho\n",
      "Redirect  Bing Liu -> Liu Bing\n",
      "Redirect  Tony Fauci -> Anthony Fauci\n",
      "Redirect  Alex Ovechkin -> Alexander Ovechkin\n",
      "Redirect  Dave Evans -> David Evans\n",
      "Redirect  Young Lee -> Pinkberry\n",
      "Redirect  Bobby Jones -> Robert Jones\n",
      "Redirect  Jonathan Jenkins -> Jon Jenkins \n",
      "Redirect  Michael McKenzie -> Michael MacKenzie\n",
      "Redirect  Andrew Cross -> Andrew Crosse\n",
      "Redirect  Benoit Laliberte -> Benoît Laliberté\n",
      "Redirect  Gerardo Gonzalez -> Giraldo González de la Renta\n",
      "Redirect  Mike Armstrong -> Michael Armstrong\n",
      "Redirect  Santa Ono -> Santa J. Ono\n",
      "Redirect  Bandy Lee -> Bandy X. Lee\n",
      "Redirect  Sir Patrick Stewart -> Patrick Stewart\n",
      "Redirect  Dave Williams -> David Williams\n",
      "Redirect  Kevin Green -> Kevin Greene\n",
      "Redirect  Dr. Robert -> Doctor Robert\n",
      "Redirect  Bob Bowman -> Robert Bowman\n",
      "Redirect  Chloe Dygert -> Chloé Dygert\n",
      "Redirect  Hillary Rodham Clinton -> Hillary Clinton\n",
      "Redirect  Mike Ryan -> Michael Ryan\n",
      "Redirect  Dan Williams -> Daniel Williams\n",
      "Redirect  Joe Ryan -> Joseph Ryan\n",
      "Redirect  YBN Cordae -> Cordae\n",
      "Redirect  Mike Ramsey -> Michael Ramsey \n",
      "Redirect  Qiang Wang -> Wang Qiang\n",
      "Redirect  Andre Gomes -> André Gomes\n",
      "Redirect  Mike Russell -> Michael Russell\n",
      "Redirect  Bill Ferguson -> William Ferguson\n",
      "Redirect  Rick Wilson -> Richard Wilson\n",
      "Redirect  Sean Cummins -> Seán Cummins\n",
      "Redirect  Branko Milanovic -> Branko Milanovi\n",
      "Redirect  Quique Setien -> Quique Setién\n",
      "Redirect  Herizen Guardiola -> Herizen F. Guardiola\n",
      "Redirect  Jillian Saulnier -> Jill Saulnier\n",
      "Redirect  President Bill Clinton -> Bill Clinton\n",
      "Redirect  Tom Kennedy -> Thomas Kennedy\n",
      "Redirect  Tom Reed -> Thomas Reed\n",
      "Redirect  Russell Brock -> Russell Brock\n",
      "Redirect  France Córdova -> France A. Córdova\n",
      "Redirect  Jose Mourinho -> José Mourinho\n",
      "Redirect  Oscar Pujol -> Óscar Pujol\n",
      "Redirect  Alex Fletcher -> Alexander Fletcher\n",
      "Redirect  Tiffany Lee -> Plumb \n",
      "Redirect  Bobby Scott -> Robert Scott\n",
      "Redirect  Larry Birkhead -> Dannielynn Birkhead paternity case\n",
      "Redirect  Shad Khan -> Shahid Khan\n",
      "Redirect  Frederik Madsen -> Frederik Rodenberg\n",
      "Redirect  Tom Reilly -> Thomas Reilly \n",
      "Redirect  Mike McKenna -> Michael McKenna\n",
      "Redirect  Vicente Navarro -> Vicenç Navarro\n",
      "Redirect  Anant Singh -> Anant Kumar Singh\n",
      "Redirect  MK Stalin -> M. K. Stalin\n",
      "Redirect  ALICE COOPER -> Alice Cooper\n",
      "Redirect  Meghan Markle -> Meghan\n",
      "Redirect  Jon Edwards -> Jonathan Edwards\n",
      "Redirect  Mike Kelly -> Michael Kelly\n",
      "Redirect  Eleider Alvarez -> Eleider Álvarez\n",
      "Redirect  Kathryn Murray -> Arthur Murray\n",
      "Redirect  Antonio Ortiz -> Antonio Ortiz Ramírez\n",
      "Redirect  Vinton Cerf -> Vint Cerf\n",
      "Redirect  Bryan Perez -> Bryan Pérez\n"
     ]
    }
   ],
   "source": [
    "invalid_speakers=[]\n",
    "speaker_content={}\n",
    "for speaker in speakers[:2000]:\n",
    "   try :\n",
    "      with urllib.request.urlopen(request_template2.format(urllib.parse.quote(speaker))) as response:\n",
    "         raw_data = json.load(response)[\"query\"][\"pages\"][0]\n",
    "         \n",
    "         if raw_data.get(\"missing\",False):\n",
    "            invalid_speakers.append(speaker)\n",
    "         else:\n",
    "            content = raw_data[\"revisions\"][0][\"slots\"][\"main\"][\"content\"]\n",
    "            if re.search(\"^'''{}''' may refer to\".format(speaker),content): #Drop disambiguation pages\n",
    "               invalid_speakers.append(speaker)\n",
    "\n",
    "            else:\n",
    "               if re.search(\"(^#REDIRECT \\[\\[)([A-Za-z 'À-ÿZİı.-]*)\", content): #Allows to fix most redirecting problems \n",
    "                  speaker_alt = re.search(\"(^#REDIRECT \\[\\[)([A-Za-z 'À-ÿZİı.-]*)\", content).group(2)\n",
    "                  print(\"Redirect \", speaker ,\"->\",speaker_alt) #Je laisse le print parce qu'il est satisfaisant\n",
    "                  if speaker_alt:\n",
    "                     with urllib.request.urlopen(request_template2.format(urllib.parse.quote(speaker_alt))) as response:\n",
    "                        raw_data = json.load(response)[\"query\"][\"pages\"][0]\n",
    "                        if raw_data.get(\"missing\",False):\n",
    "                           invalid_speakers.append(speaker)\n",
    "                        else:\n",
    "                           content = raw_data[\"revisions\"][0][\"slots\"][\"main\"][\"content\"]\n",
    "                  else :\n",
    "                     content = \"ERROR\"\n",
    "               speaker_content[raw_data[\"title\"]]=content\n",
    "            \n",
    "   except urllib.request.HTTPError :\n",
    "      invalid_speakers.append(speaker)\n",
    "      "
   ]
  },
  {
   "cell_type": "code",
   "execution_count": 14,
   "metadata": {},
   "outputs": [
    {
     "data": {
      "text/plain": [
       "1622"
      ]
     },
     "execution_count": 14,
     "metadata": {},
     "output_type": "execute_result"
    }
   ],
   "source": [
    "len(speaker_content)"
   ]
  },
  {
   "cell_type": "markdown",
   "metadata": {},
   "source": [
    "We manage to fetch around 75% of the wikipedia page that we were looking for ! \n",
    "However we can notice a small percentage of rows that are considered as valid to be completely wrong. Since we fetch the jsons using the name of the speaker, we can either have trouble resolving homonyms, or simply suffer from badly assigned names (i.e. \"Theater Director\")"
   ]
  },
  {
   "cell_type": "markdown",
   "metadata": {},
   "source": [
    "## Political Side assignation\n",
    "Here we're guessing the political side of each speaker with somewhat good accuracy. We use 2 different strategies, if the speaker has a well filled in wikipedia page, we can simply find its current political party. If not, we're using a surprisingly alright heuristic, we simply count the occurences of words assigned to democrats (i.e. \"left-wing\", \"liberal\", ...) and republicans, and compare the 2 counts.\n",
    "\n",
    "NB: There is obviously one major assumption that speaker belong exclusively to either of these two (or none). However, even in the US, some speakers are \"in the middle\". \n",
    "\n",
    "It should also be noted that some speakers are not American, we however found that our heuristic still matched those speakers with conservatives view to the Republican and vice-versa). We shall in the next milestone investigate further and perhaps adopt a deeper model."
   ]
  },
  {
   "cell_type": "code",
   "execution_count": 37,
   "metadata": {},
   "outputs": [],
   "source": [
    "def pol_compass_from_wiki(speakers_content, discrete = True):\n",
    "    if discrete:\n",
    "        dem_words=[\"democrat\", \"left-wing\", \"liberal\"]\n",
    "        rep_words =[\"republican\", \"conservative\", \"right-wing\"]\n",
    "\n",
    "\n",
    "        for speaker in speakers_content:\n",
    "            yielded = False\n",
    "            s= speakers_content[speaker].lower()\n",
    "\n",
    "            for line in s.split(\"\\n\"):\n",
    "                if \"| party\" in line:\n",
    "                    if any(x in line for x in dem_words):\n",
    "                        yield speaker, (\"Democrat\", -1)\n",
    "                        yielded = True\n",
    "                    elif any(x in line for x in rep_words):\n",
    "                        yielded = True\n",
    "                        yield speaker, (\"Republican\", -1)\n",
    "                \n",
    "            if not yielded:\n",
    "\n",
    "                dem= sum(s.count(x) for x in dem_words)\n",
    "                rep= sum(s.count(x) for x in rep_words)\n",
    "                total = rep+dem\n",
    "                if total:\n",
    "                    yield speaker, (\"Democrat\" if dem>rep else \"Republican\", total)\n",
    "    else:\n",
    "        dem_words=[\"democrat\", \"left-wing\", \"liberal\"]\n",
    "        rep_words =[\"republican\", \"conservative\", \"right-wing\"]\n",
    "\n",
    "        for speaker in speakers_content:\n",
    "            yielded = False\n",
    "            s= speakers_content[speaker].lower()\n",
    "\n",
    "            for line in s.split(\"\\n\"):\n",
    "                if \"| party\" in line:\n",
    "                    if any(x in line for x in dem_words):\n",
    "                        yield speaker, (1,0, -1)\n",
    "                        yielded = True\n",
    "                    elif any(x in line for x in rep_words):\n",
    "                        yielded = True\n",
    "                        yield speaker, (0,1, -1)\n",
    "                \n",
    "            if not yielded:\n",
    "\n",
    "                dem= sum(s.count(x) for x in dem_words)\n",
    "                rep= sum(s.count(x) for x in rep_words)\n",
    "                total = rep+dem\n",
    "                if total:\n",
    "                    yield speaker, (dem/total,rep/total, total)\n",
    "\n"
   ]
  },
  {
   "cell_type": "code",
   "execution_count": 38,
   "metadata": {},
   "outputs": [
    {
     "data": {
      "text/plain": [
       "501"
      ]
     },
     "execution_count": 38,
     "metadata": {},
     "output_type": "execute_result"
    }
   ],
   "source": [
    "speaker_wing= dict(pol_compass_from_wiki(speaker_content))\n",
    "len(speaker_wing)"
   ]
  },
  {
   "cell_type": "markdown",
   "metadata": {},
   "source": [
    "## Gender assignation\n",
    "\n",
    "In order to guess the gender if the speakers, we again use 2 strategies. At first, we try guessing the gender by counting occurences of gendered pronoums, but if we don't get any, we train a classifier, which solely uses the name of the speaker to guess the gender (thus with pretty bad accuracy ~70%) "
   ]
  },
  {
   "cell_type": "code",
   "execution_count": 39,
   "metadata": {},
   "outputs": [
    {
     "name": "stderr",
     "output_type": "stream",
     "text": [
      "[nltk_data] Downloading package names to /home/lucastrg/nltk_data...\n",
      "[nltk_data]   Package names is already up-to-date!\n"
     ]
    }
   ],
   "source": [
    "from nltk.corpus import names\n",
    "from nltk import NaiveBayesClassifier as NBC\n",
    "from nltk import classify\n",
    "import nltk\n",
    "nltk.download('names')\n",
    "\n",
    "import random"
   ]
  },
  {
   "cell_type": "markdown",
   "metadata": {},
   "source": [
    "For the classifier we use both the whole name as well as only the last letter"
   ]
  },
  {
   "cell_type": "code",
   "execution_count": 40,
   "metadata": {},
   "outputs": [],
   "source": [
    "def gender_features(word):\n",
    "    return {\"whole name\" : word, \"lastletter\" : word[-1]}"
   ]
  },
  {
   "cell_type": "markdown",
   "metadata": {},
   "source": [
    "Training set loading and parsing"
   ]
  },
  {
   "cell_type": "code",
   "execution_count": 41,
   "metadata": {},
   "outputs": [],
   "source": [
    "femaleNames = [ (name, \"female\") for name in names.words(\"female.txt\") ]\n",
    "maleNames = [ (name, \"male\") for name in names.words(\"male.txt\") ]\n",
    "allNames = maleNames + femaleNames\n",
    "random.shuffle(allNames)"
   ]
  },
  {
   "cell_type": "markdown",
   "metadata": {},
   "source": [
    "Actually training the classifier"
   ]
  },
  {
   "cell_type": "code",
   "execution_count": 42,
   "metadata": {},
   "outputs": [],
   "source": [
    "featureData = [(gender_features(namelist), gender) for (namelist, gender) in allNames ]\n",
    "test_data = featureData[:500]\n",
    "train_data = featureData[500:]\n",
    "classifier = NBC.train(train_data)"
   ]
  },
  {
   "cell_type": "code",
   "execution_count": 43,
   "metadata": {},
   "outputs": [],
   "source": [
    "def gender_from_wiki(speaker_content):\n",
    "    he_words=[\" he \", \" him\", \" him\"] #The spaces are important, don't modify\n",
    "    she_words =[\" she \", \" her\"]\n",
    "    they_words=[\" they \", \" them\"]\n",
    "\n",
    "    for speaker in speaker_content:\n",
    "        s= speaker_content[speaker].lower()\n",
    "\n",
    "        he= sum(s.count(x) for x in he_words)\n",
    "        she= sum(s.count(x) for x in she_words)\n",
    "        they= sum(s.count(x) for x in they_words)\n",
    "        total = he+she+they\n",
    "\n",
    "        if True:\n",
    "            if total==0:\n",
    "                 yield (speaker, classifier.classify(gender_features(speaker.split()[0])))\n",
    "            elif he == max(he,she,they):\n",
    "                yield(speaker, \"male\")\n",
    "            elif she == max(he,she,they):\n",
    "                yield(speaker, \"female\")\n",
    "            else:\n",
    "                yield(speaker, \"other\") \n",
    "        if False and total:\n",
    "            yield speaker, (he/total,she/total, they/total, total)\n"
   ]
  },
  {
   "cell_type": "code",
   "execution_count": 44,
   "metadata": {},
   "outputs": [
    {
     "data": {
      "text/plain": [
       "1622"
      ]
     },
     "execution_count": 44,
     "metadata": {},
     "output_type": "execute_result"
    }
   ],
   "source": [
    "speaker_gender = dict(gender_from_wiki(speaker_content))\n",
    "len(speaker_gender)"
   ]
  },
  {
   "cell_type": "code",
   "execution_count": 45,
   "metadata": {},
   "outputs": [
    {
     "data": {
      "text/plain": [
       "(array(['female', 'male', 'other'], dtype='<U6'), array([ 364, 1254,    4]))"
      ]
     },
     "execution_count": 45,
     "metadata": {},
     "output_type": "execute_result"
    }
   ],
   "source": [
    "tmp = []\n",
    "for speaker, gender in speaker_gender.items():\n",
    "    tmp.append(gender)\n",
    "np.unique(tmp, return_counts=True) #Snif"
   ]
  },
  {
   "cell_type": "markdown",
   "metadata": {},
   "source": [
    "As we can see, only 20% of the speakers, are female."
   ]
  },
  {
   "cell_type": "markdown",
   "metadata": {},
   "source": [
    "## Age assignation\n",
    "Much easier to do, we can most of the time get a solid birth date and compute the age of the speaker (not precisely, we only use the year, since we're more interested about seeing general trends rather than precise assignation)"
   ]
  },
  {
   "cell_type": "code",
   "execution_count": 46,
   "metadata": {},
   "outputs": [],
   "source": [
    "def age_from_wiki(speaker_content):\n",
    "    count = 0\n",
    "\n",
    "    for speaker in speaker_content:\n",
    "        s= speaker_content[speaker].lower().split(\"\\n\")\n",
    "        for line in s:\n",
    "            if \"birth_date\" in line:\n",
    "                    \n",
    "                    match = re.match(\"^(\\|birth_date={{birthdateandage\\|(\\w*=\\w*\\|)?)([0-9]*)\\|([0-9]*)\\|([0-9]*)\", line.replace(\" \",\"\"))\n",
    "                    if match:\n",
    "                        age = 2022-int(match.group(3))\n",
    "                        yield(speaker, age)\n",
    "                    else : \n",
    "                        match = re.match(\"^(\\|birth_date={{birthdate\\|(\\w*=\\w*\\|)?)([0-9]*)\\|([0-9]*)\\|([0-9]*)\", line.replace(\" \",\"\"))\n",
    "                        if match:\n",
    "                            age = 2022-int(match.group(3))\n",
    "                            yield(speaker, age)\n",
    "                        else :\n",
    "                            match = re.match(\"^(\\|birth_date={{birthyearandage\\|(\\w*=\\w*\\|)?)([0-9]*)\", line.replace(\" \",\"\"))\n",
    "                            if match:\n",
    "                                age = 2022-int(match.group(3))\n",
    "                                yield(speaker, age)     \n",
    "                            else:\n",
    "                                count +=1\n"
   ]
  },
  {
   "cell_type": "code",
   "execution_count": 47,
   "metadata": {},
   "outputs": [],
   "source": [
    "speaker_age = dict(age_from_wiki(speaker_content))"
   ]
  },
  {
   "cell_type": "code",
   "execution_count": 48,
   "metadata": {},
   "outputs": [
    {
     "data": {
      "text/plain": [
       "1197"
      ]
     },
     "execution_count": 48,
     "metadata": {},
     "output_type": "execute_result"
    }
   ],
   "source": [
    "len(speaker_age)"
   ]
  },
  {
   "cell_type": "code",
   "execution_count": 49,
   "metadata": {},
   "outputs": [
    {
     "data": {
      "text/plain": [
       "Text(0, 0.5, 'Count')"
      ]
     },
     "execution_count": 49,
     "metadata": {},
     "output_type": "execute_result"
    },
    {
     "data": {
      "image/png": "[encoded data removed]",
      "text/plain": [
       "<Figure size 1440x864 with 1 Axes>"
      ]
     },
     "metadata": {},
     "output_type": "display_data"
    }
   ],
   "source": [
    "plt.hist(speaker_age.values(), bins=20)\n",
    "plt.title(\"Empirical age distribution of the sampled speakers (without filtering)\")\n",
    "plt.xlabel(\"Age\")\n",
    "plt.ylabel(\"Count\")"
   ]
  },
  {
   "cell_type": "code",
   "execution_count": 50,
   "metadata": {},
   "outputs": [],
   "source": [
    "wing = []\n",
    "ages = []\n",
    "gender = []\n",
    "\n",
    "\n",
    "for speaker in speaker_content:\n",
    "    if speaker in speaker_age.keys() and speaker in speaker_gender.keys() and speaker in speaker_wing.keys() and speaker_age[speaker]<120:\n",
    " \n",
    "        ages.append(speaker_age[speaker])\n",
    "        wing.append(speaker_wing[speaker][0])\n",
    "        gender.append(speaker_gender[speaker])\n"
   ]
  },
  {
   "cell_type": "code",
   "execution_count": 52,
   "metadata": {},
   "outputs": [
    {
     "data": {
      "text/plain": [
       "Text(0, 0.5, 'Count')"
      ]
     },
     "execution_count": 52,
     "metadata": {},
     "output_type": "execute_result"
    },
    {
     "data": {
      "image/png": "[encoded data removed]",
      "text/plain": [
       "<Figure size 1440x864 with 1 Axes>"
      ]
     },
     "metadata": {},
     "output_type": "display_data"
    }
   ],
   "source": [
    "plt.hist(wing)\n",
    "plt.title(\"Observed repartition between the 2 parties\")\n",
    "plt.ylabel(\"Count\")"
   ]
  },
  {
   "cell_type": "markdown",
   "metadata": {},
   "source": [
    "In order to get a more precise view of the age of speakers that could have contributed to the climate change question, we filtered speakers over 120 years old"
   ]
  },
  {
   "cell_type": "code",
   "execution_count": 55,
   "metadata": {},
   "outputs": [
    {
     "data": {
      "text/plain": [
       "Text(0, 0.5, 'Count')"
      ]
     },
     "execution_count": 55,
     "metadata": {},
     "output_type": "execute_result"
    },
    {
     "data": {
      "image/png": "[encoded data removed]",
      "text/plain": [
       "<Figure size 1440x864 with 1 Axes>"
      ]
     },
     "metadata": {},
     "output_type": "display_data"
    }
   ],
   "source": [
    "plt.hist(ages,bins=20)\n",
    "plt.title(\"Empirical age distribution of the sampled speakers (with a bit of filtering)\")\n",
    "plt.xlabel(\"Age\")\n",
    "plt.ylabel(\"Count\")"
   ]
  },
  {
   "cell_type": "code",
   "execution_count": 57,
   "metadata": {},
   "outputs": [],
   "source": [
    "big_dict={}\n",
    "for speaker in speaker_content:\n",
    "    if speaker in speaker_age.keys() and speaker in speaker_gender.keys() and speaker in speaker_wing.keys() and speaker_age[speaker]<120:\n",
    "        big_dict[speaker]=(speaker_age[speaker], speaker_gender[speaker], speaker_wing[speaker][0],speaker_wing[speaker][1])\n",
    "        "
   ]
  },
  {
   "cell_type": "code",
   "execution_count": 58,
   "metadata": {},
   "outputs": [],
   "source": [
    "df = pd.DataFrame.from_dict(big_dict, orient=\"index\", columns=[\"age\", \"gender\", \"wing\", \"political_count\"])"
   ]
  },
  {
   "cell_type": "code",
   "execution_count": 59,
   "metadata": {},
   "outputs": [],
   "source": [
    "df.wing = df.wing.astype( \"category\")\n",
    "df.gender = df.gender.astype(\"category\")"
   ]
  },
  {
   "cell_type": "code",
   "execution_count": 65,
   "metadata": {},
   "outputs": [
    {
     "data": {
      "text/plain": [
       "Text(0.5, 0.98, 'Age and gender distribution for each major political wing')"
      ]
     },
     "execution_count": 65,
     "metadata": {},
     "output_type": "execute_result"
    },
    {
     "data": {
      "image/png": "[encoded data removed]",
      "text/plain": [
       "<Figure size 725.975x648 with 1 Axes>"
      ]
     },
     "metadata": {},
     "output_type": "display_data"
    }
   ],
   "source": [
    "sns.set(rc={'figure.figsize':(20,12)})\n",
    "sns.catplot(x=\"wing\", y=\"age\", hue=\"gender\", kind=\"swarm\", data=df, height=9).fig.suptitle(\"Age and gender distribution for each major political wing\")"
   ]
  },
  {
   "cell_type": "code",
   "execution_count": 68,
   "metadata": {},
   "outputs": [
    {
     "data": {
      "text/plain": [
       "Text(0.5, 1.0, 'Age distribution of each major political wing')"
      ]
     },
     "execution_count": 68,
     "metadata": {},
     "output_type": "execute_result"
    },
    {
     "data": {
      "image/png": "[encoded data removed]",
      "text/plain": [
       "<Figure size 1440x864 with 1 Axes>"
      ]
     },
     "metadata": {},
     "output_type": "display_data"
    }
   ],
   "source": [
    "sns.histplot(data=df, x=\"age\", hue=\"wing\").set_title(\"Age distribution of each major political wing\")"
   ]
  },
  {
   "cell_type": "code",
   "execution_count": 69,
   "metadata": {},
   "outputs": [
    {
     "data": {
      "text/plain": [
       "Text(0.5, 1.0, 'Age distribution of each assigned gender')"
      ]
     },
     "execution_count": 69,
     "metadata": {},
     "output_type": "execute_result"
    },
    {
     "data": {
      "image/png": "[encoded data removed]",
      "text/plain": [
       "<Figure size 1440x864 with 1 Axes>"
      ]
     },
     "metadata": {},
     "output_type": "display_data"
    }
   ],
   "source": [
    "sns.histplot(data=df, x=\"age\", hue=\"gender\").set_title(\"Age distribution of each assigned gender\")"
   ]
  }
 ],
 "metadata": {
  "interpreter": {
   "hash": "bb06c098c3216c54642aa07de91d9226ba647e37838e3d6108e31e8e2859f3a8"
  },
  "kernelspec": {
   "display_name": "Python 3.9.5 64-bit ('env': venv)",
   "name": "python3"
  },
  "language_info": {
   "codemirror_mode": {
    "name": "ipython",
    "version": 3
   },
   "file_extension": ".py",
   "mimetype": "text/x-python",
   "name": "python",
   "nbconvert_exporter": "python",
   "pygments_lexer": "ipython3",
   "version": "3.9.5"
  },
  "orig_nbformat": 4
 },
 "nbformat": 4,
 "nbformat_minor": 2
}
