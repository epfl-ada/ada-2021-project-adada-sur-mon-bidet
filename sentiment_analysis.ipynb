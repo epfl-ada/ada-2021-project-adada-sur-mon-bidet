{
 "cells": [
  {
   "cell_type": "code",
   "execution_count": 1,
   "metadata": {},
   "outputs": [],
   "source": [
    "import helpers\n",
    "import pandas as pd\n",
    "import seaborn as sns\n",
    "import numpy as np\n",
    "import matplotlib.pyplot as plt\n",
    "import bz2\n",
    "import json"
   ]
  },
  {
   "cell_type": "markdown",
   "metadata": {},
   "source": [
    "### Preprocessing for sentiment analysis.\n",
    "\n",
    "- Don't lowercase\n",
    "- Don't remove \"!\" or \"?\""
   ]
  },
  {
   "cell_type": "markdown",
   "metadata": {},
   "source": [
    "## Review of sentiment analysis and VADER\n",
    "\n",
    "Classic gold standard lexicon is LIWC. Sociologists, psychologists, linguists, and computer scientists find LIWC appealing because it has been extensively validated. Also, its straightforward dictionary and simple word lists are easily inspected, understood, and extended if desired. Such attributes make LIWC an attractive option to researchers looking for a reliable lexicon to extract emotional or sentiment polarity from text. Despite their pervasive use for gaging sentiment in social media contexts, these lexicons are often used with little regard for their actual suitability to the domain.\n",
    "\n",
    "\n",
    "For short text:\n",
    "\n",
    " Use Vader (Valence Aware Dictionary for sEntiment Reasoning) (https://github.com/cjhutto/vaderSentiment#introduction), how to cite: Hutto, C.J. & Gilbert, E.E. (2014). VADER: A Parsimonious Rule-based Model for Sentiment Analysis of Social Media Text. Eighth International Conference on Weblogs and Social Media (ICWSM-14). Ann Arbor, MI, June 2014.\n",
    "\n",
    "\n",
    "In the paper, we see that VADER (F1 = 0.96) actually even outperforms individual human raters (F1 = 0.84) at correctly classifying the sentiment of tweets into positive, neutral, or negative classes.\n",
    "\n",
    "Also, LIWC is unable to account for differences in the sentiment intensity of words. For example, “The food here is exceptional” conveys morepositive intensity than “The food here is okay”. A sentiment analysis tool using LIWC would score them equally(they each contain one positive term). Such distinctions are intuitively valuable for fine-grained sentiment analysis and in our case to detect true polarization. \"I am skeptic about climate\" is not as intense as \"I hate Greta Thunberg\".\n",
    "\n",
    "ANEW words have an associated sentiment valence ranging from 1-9 (with a neutral midpoint at five), such that words with valence scores less than five are considered unpleasant/negative, and those\n",
    "with scores greater than five are considered pleasant/positive. \n",
    "\n",
    "\n",
    "SentiWordNet is an extension of WordNet (Fellbaum, 1998) in which 147,306 synsets are annotated with three numerical scores relating to positivity, negativity, and objectivity (neutrality) (Baccianella, Esuli, & Sebastiani, 2010). Each score ranges from 0.0 to 1.0, and their sum is1.0 for each synset. The scores were calculated using a complex mix of semi-supervised algorithms (propagationmethods and classifiers). It is thus not a gold standard resource like WordNet, LIWC, GI, or ANEW (which were all 100% curated by humans), but it is useful for a wide range of tasks. VADER interfaces with SentiWordNet via Python’s Natural Language Toolkit (NLTK), and use the difference of each sysnset’s positive and negative scores as its sentiment valence to distinguish differences in the sentiment intensity of words.The SentiWordNet lexicon is very noisy; a large majority of synsets have no positive or negative polarity. It also fails to account for sentiment bearing lexical features relevant to text in microblogs.\n",
    "\n",
    "\n",
    "SenticNet is a publicly available semantic and affective resource for concept-level opinion and sentiment analysis (Cambria, Havasi, & Hussain, 2012). SenticNet is constructed by means of sentic computing, a paradigm that exploits both AI and Semantic Web techniques to process natural language opinions via an ensemble of graph-mining and dimensionality-reduction techniques (Cambria, Speer, Havasi, & Hussain, 2010). The SenticNet lexicon consists of 14,244 common sense concepts such as wrath, adoration, woe, and admiration with information associated with (among other things) the concept’s sentiment polarity, a numeric value on a continuous scale ranging from –1 to 1. VADER accesses the SenticNet polarity score using the online SenticNet API and a publicly available Python package8\n",
    ". \n",
    "\n",
    "\n",
    "\n",
    "SCORING:\n",
    "\n",
    " The 'compound' score is computed by summing the valence scores of each word in the lexicon, adjusted according to the rules, and then normalized to be between -1 (most extreme negative) and +1 (most extreme positive). This is the most useful metric if you want a single unidimensional measure of sentiment for a given sentence. Calling it a 'normalized, weighted composite score' is accurate.\n",
    "\n",
    "The pos, neu, and neg scores are ratios for proportions of text that fall in each category (so these should all add up to be 1 or close to it with float operation).  These are the most useful metrics if you want multidimensional measures of sentiment for a given sentence.\n",
    "\n",
    "\n",
    "For longer text:\n",
    "\n",
    "Use LIWC (Linguistic Inquiry and Word Count), it is Semantic Orientation (Polarity-based) Lexicons, thus it is not capable of differentating \"exceptional\" from \"good\"."
   ]
  },
  {
   "cell_type": "code",
   "execution_count": 7,
   "metadata": {},
   "outputs": [
    {
     "name": "stderr",
     "output_type": "stream",
     "text": [
      "[nltk_data] Downloading package vader_lexicon to\n",
      "[nltk_data]     C:\\Users\\Harold\\AppData\\Roaming\\nltk_data...\n",
      "[nltk_data]   Package vader_lexicon is already up-to-date!\n"
     ]
    }
   ],
   "source": [
    "# Following this tutorial: https://realpython.com/python-nltk-sentiment-analysis/#:~:text=Sentiment%20analysis%20is%20the%20practice,obtain%20insights%20from%20linguistic%20data.\n",
    "\n",
    "#NLTK already has a built-in, pretrained sentiment analyzer called VADER (Valence Aware Dictionary and sEntiment Reasoner).\n",
    "\n",
    "#Since VADER is pretrained, you can get results more quickly than with many other analyzers.\n",
    "#  However, VADER is best suited for language used in social media, like short sentences with some slang and abbreviations.\n",
    "# It’s less accurate when rating longer, structured sentences, but it’s often a good launching point.\n",
    "\n",
    "from nltk.corpus import stopwords\n",
    "from nltk.stem.wordnet import WordNetLemmatizer\n",
    "import nltk\n",
    "nltk.download('vader_lexicon')\n",
    "from nltk.sentiment import SentimentIntensityAnalyzer\n",
    "sia = SentimentIntensityAnalyzer()\n"
   ]
  },
  {
   "cell_type": "code",
   "execution_count": 30,
   "metadata": {},
   "outputs": [
    {
     "data": {
      "text/plain": [
       "{'neg': 0.0, 'neu': 0.444, 'pos': 0.556, 'compound': 0.7394}"
      ]
     },
     "execution_count": 30,
     "metadata": {},
     "output_type": "execute_result"
    }
   ],
   "source": [
    "\n",
    "\n",
    "l = sia.polarity_scores(\"I am happy dawg and I'm not sad\")\n",
    "l"
   ]
  },
  {
   "cell_type": "code",
   "execution_count": 20,
   "metadata": {},
   "outputs": [],
   "source": [
    "df = pd.read_pickle(\"df2017_0\")"
   ]
  },
  {
   "cell_type": "code",
   "execution_count": 36,
   "metadata": {},
   "outputs": [],
   "source": [
    "def analyze_sentiment(text):\n",
    "    polarity_scores = sia.polarity_scores(text)\n",
    "    print(f\"Portion of the text which is negative: {polarity_scores['neg']}.\")\n",
    "    print(f\"Portion of the text which is neutral: {polarity_scores['neu']}.\")\n",
    "    print(f\"Portion of the text which is positive: {polarity_scores['pos']}.\")\n",
    "\n",
    "    print(f\"Normalized weighted average composite score i.e. normalized sum of the valence scores of each word in the lexicon: {polarity_scores['compound']}\\n\")"
   ]
  },
  {
   "cell_type": "code",
   "execution_count": 84,
   "metadata": {},
   "outputs": [],
   "source": [
    "def plot_sentiment_hist(df,sentiment='compound',all=False):\n",
    "\n",
    "    if all:\n",
    "        f,a = plt.subplots(2,2,figsize=(15,7),sharey=True)\n",
    "        sentiments = ['neg','neu','pos','compound']\n",
    "        transformed = df.quotation.apply(lambda x : sia.polarity_scores(x))\n",
    "\n",
    "        for i, sent in enumerate(sentiments):\n",
    "            idx = divmod(i,2)\n",
    "            g = sns.histplot(data=transformed.apply(lambda x: x[sent]), bins='auto',ax=a[idx[0],idx[1]])\n",
    "            g.set_xlabel(f\"{sent} score\")\n",
    "            g.set_yscale('log')\n",
    "    else:\n",
    "\n",
    "        transformed = df.quotation.apply(lambda x : sia.polarity_scores(x)[sentiment])\n",
    "        f, a = plt.subplots(figsize=(15, 5))\n",
    "        f.suptitle(f\"Distribution of {sentiment} sentiment\")\n",
    "        g= sns.histplot(data=test,bins='auto')\n",
    "        g.set_xlabel(f\"{sentiment} score\")\n",
    "        g.set_yscale('log')"
   ]
  },
  {
   "cell_type": "code",
   "execution_count": 86,
   "metadata": {},
   "outputs": [
    {
     "data": {
      "image/png": "[encoded data removed]",
      "text/plain": [
       "<Figure size 1080x504 with 4 Axes>"
      ]
     },
     "metadata": {
      "needs_background": "light"
     },
     "output_type": "display_data"
    }
   ],
   "source": [
    "plot_sentiment_hist(df,sentiment='pos', all=True)"
   ]
  }
 ],
 "metadata": {
  "interpreter": {
   "hash": "e78a7ef29a5e3028f948eff69c34ba1d8ebd35a887497a02775c6aab840f6bc2"
  },
  "kernelspec": {
   "display_name": "Python 3.8.12 64-bit ('base': conda)",
   "name": "python3"
  },
  "language_info": {
   "codemirror_mode": {
    "name": "ipython",
    "version": 3
   },
   "file_extension": ".py",
   "mimetype": "text/x-python",
   "name": "python",
   "nbconvert_exporter": "python",
   "pygments_lexer": "ipython3",
   "version": "3.8.12"
  },
  "orig_nbformat": 4
 },
 "nbformat": 4,
 "nbformat_minor": 2
}
