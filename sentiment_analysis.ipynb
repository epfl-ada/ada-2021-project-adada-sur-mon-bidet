{
 "cells": [
  {
   "cell_type": "code",
   "execution_count": 27,
   "metadata": {},
   "outputs": [],
   "source": [
    "import helpers\n",
    "import pandas as pd\n",
    "import seaborn as sns\n",
    "import matplotlib.pyplot as plt\n",
    "import bz2\n",
    "import json\n",
    "import os\n",
    "from importlib import reload"
   ]
  },
  {
   "cell_type": "code",
   "execution_count": 25,
   "metadata": {},
   "outputs": [],
   "source": [
    "df = helpers.get_samples(filename=\"climate_highprob2020.json.bz2\",num_samples=5000, random=False )\n"
   ]
  },
  {
   "cell_type": "code",
   "execution_count": 26,
   "metadata": {},
   "outputs": [
    {
     "name": "stdout",
     "output_type": "stream",
     "text": [
      "[ The delay ] will have an impact [ on Slough ] but that might be mitigated by the fact we are going to have this Western Rail Link to Heathrow. It looks like that may come in sooner than Crossrail.\n",
      "[ The scheme ] treats addiction as an illness and the results so far have been extremely encouraging.\n",
      "[ These ] actions will allow households who have an FHA-insured mortgage to meet the challenges of COVID-19 without fear of losing their homes, and help steady market concerns,\n",
      "11 straight weeks of pre-season,\n",
      "2019 was a landmark year for Fiverr as we completed a successful IPO, expanded the Fiverr ecosystem with new products, increased our international reach, and most importantly, continued our extraordinary growth momentum and march toward profitability,\n",
      "7pm is when most hospitals change shifts. That's why. We love you heroes.\n",
      "A collaborative opioid stewardship program, actively supported by pharmacists, will allow us to improve, monitor and evaluate opioid use and increase safety and effectiveness of opioid use and pain management in primary care.\n",
      "a few of the candidates who will do better in our part of the world\n",
      "a lack of resources and government funding\n",
      "A little over a week old. Thankful for God's goodness.\n"
     ]
    }
   ],
   "source": [
    "for i in range(10):\n",
    "    print(df.quotation.iloc[i])"
   ]
  },
  {
   "cell_type": "code",
   "execution_count": 54,
   "metadata": {},
   "outputs": [
    {
     "name": "stderr",
     "output_type": "stream",
     "text": [
      "[nltk_data] Downloading package vader_lexicon to\n",
      "[nltk_data]     C:\\Users\\Harold\\AppData\\Roaming\\nltk_data...\n"
     ]
    },
    {
     "data": {
      "text/plain": [
       "True"
      ]
     },
     "execution_count": 54,
     "metadata": {},
     "output_type": "execute_result"
    }
   ],
   "source": [
    "from nltk.corpus import stopwords\n",
    "from nltk.stem.wordnet import WordNetLemmatizer\n",
    "import nltk\n",
    "nltk.download('vader_lexicon')\n"
   ]
  },
  {
   "cell_type": "code",
   "execution_count": 29,
   "metadata": {},
   "outputs": [
    {
     "name": "stdout",
     "output_type": "stream",
     "text": [
      "['delay', 'impact', 'slough', 'might', 'mitigated', 'fact', 'going', 'western', 'rail', 'link', 'heathrow', 'looks', 'like', 'may', 'sooner', 'crossrail', 'delay impact', 'impact slough', 'slough might', 'might mitigated', 'mitigated fact', 'fact going', 'going western', 'western rail', 'rail link', 'link heathrow', 'heathrow looks', 'looks like', 'like may', 'may sooner', 'sooner crossrail']\n"
     ]
    }
   ],
   "source": [
    "for i in range(1):\n",
    "    print(helpers.preprocess_quote(df.quotation.iloc[i]))"
   ]
  },
  {
   "cell_type": "code",
   "execution_count": 56,
   "metadata": {},
   "outputs": [],
   "source": [
    "text = df.quotation.iloc[1]"
   ]
  },
  {
   "cell_type": "code",
   "execution_count": 57,
   "metadata": {},
   "outputs": [
    {
     "data": {
      "text/plain": [
       "'[ The scheme ] treats addiction as an illness and the results so far have been extremely encouraging.'"
      ]
     },
     "execution_count": 57,
     "metadata": {},
     "output_type": "execute_result"
    }
   ],
   "source": [
    "text"
   ]
  },
  {
   "cell_type": "code",
   "execution_count": 59,
   "metadata": {},
   "outputs": [
    {
     "data": {
      "text/plain": [
       "{'neg': 0.132, 'neu': 0.687, 'pos': 0.181, 'compound': 0.2484}"
      ]
     },
     "execution_count": 59,
     "metadata": {},
     "output_type": "execute_result"
    }
   ],
   "source": [
    "# Following this tutorial: https://realpython.com/python-nltk-sentiment-analysis/#:~:text=Sentiment%20analysis%20is%20the%20practice,obtain%20insights%20from%20linguistic%20data.\n",
    "\n",
    "#NLTK already has a built-in, pretrained sentiment analyzer called VADER (Valence Aware Dictionary and sEntiment Reasoner).\n",
    "\n",
    "#Since VADER is pretrained, you can get results more quickly than with many other analyzers.\n",
    "#  However, VADER is best suited for language used in social media, like short sentences with some slang and abbreviations.\n",
    "# It’s less accurate when rating longer, structured sentences, but it’s often a good launching point.\n",
    "\n",
    "\n",
    "from nltk.sentiment import SentimentIntensityAnalyzer\n",
    "sia = SentimentIntensityAnalyzer()\n",
    "sia.polarity_scores(text)"
   ]
  },
  {
   "cell_type": "code",
   "execution_count": null,
   "metadata": {},
   "outputs": [],
   "source": []
  }
 ],
 "metadata": {
  "interpreter": {
   "hash": "e78a7ef29a5e3028f948eff69c34ba1d8ebd35a887497a02775c6aab840f6bc2"
  },
  "kernelspec": {
   "display_name": "Python 3.8.12 64-bit ('base': conda)",
   "name": "python3"
  },
  "language_info": {
   "codemirror_mode": {
    "name": "ipython",
    "version": 3
   },
   "file_extension": ".py",
   "mimetype": "text/x-python",
   "name": "python",
   "nbconvert_exporter": "python",
   "pygments_lexer": "ipython3",
   "version": "3.8.12"
  },
  "orig_nbformat": 4
 },
 "nbformat": 4,
 "nbformat_minor": 2
}
